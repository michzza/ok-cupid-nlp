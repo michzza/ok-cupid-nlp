{
 "cells": [
  {
   "cell_type": "markdown",
   "metadata": {},
   "source": [
    "# Gender Classification using Natural Language Processing on OkCupid dataset\n",
    "\n",
    "In this notebook we explore a data set containing around 60,000 OKCupid profiles and see if we can identify trends in how users of different genders express themselves based on their responses to open text fields within the app such as *About Me*, *Current Goals*, *My Golden Rule*, etc .. \n",
    "\n",
    "There are 10 `essay` columns in this dataset and they relate to open text fields within the app. They are not necessarily in order, so any essay column could have any of the following open text fields: *About Me / Self summary, Current Goals / Aspirations, My Golden Rule / My traits, I could probably beat you at / Talent, The last show I binged / Hobbies, A perfect day / Moments, I value / Needs, The most private thing I'm willing to admit / Secrets, What I'm actually looking for / Dating.*\n",
    "\n",
    "Details on the data set and where to find it can be found in the appendix at the end of this notebook."
   ]
  },
  {
   "cell_type": "code",
   "execution_count": 1,
   "metadata": {},
   "outputs": [],
   "source": [
    "import pandas as pd\n",
    "\n",
    "from sklearn.feature_extraction.text import CountVectorizer\n",
    "from sklearn.model_selection import train_test_split\n",
    "from sklearn.naive_bayes import MultinomialNB"
   ]
  },
  {
   "cell_type": "code",
   "execution_count": 2,
   "metadata": {},
   "outputs": [
    {
     "data": {
      "text/html": [
       "<div>\n",
       "<style scoped>\n",
       "    .dataframe tbody tr th:only-of-type {\n",
       "        vertical-align: middle;\n",
       "    }\n",
       "\n",
       "    .dataframe tbody tr th {\n",
       "        vertical-align: top;\n",
       "    }\n",
       "\n",
       "    .dataframe thead th {\n",
       "        text-align: right;\n",
       "    }\n",
       "</style>\n",
       "<table border=\"1\" class=\"dataframe\">\n",
       "  <thead>\n",
       "    <tr style=\"text-align: right;\">\n",
       "      <th></th>\n",
       "      <th>age</th>\n",
       "      <th>body_type</th>\n",
       "      <th>diet</th>\n",
       "      <th>drinks</th>\n",
       "      <th>drugs</th>\n",
       "      <th>education</th>\n",
       "      <th>essay0</th>\n",
       "      <th>essay1</th>\n",
       "      <th>essay2</th>\n",
       "      <th>essay3</th>\n",
       "      <th>...</th>\n",
       "      <th>location</th>\n",
       "      <th>offspring</th>\n",
       "      <th>orientation</th>\n",
       "      <th>pets</th>\n",
       "      <th>religion</th>\n",
       "      <th>sex</th>\n",
       "      <th>sign</th>\n",
       "      <th>smokes</th>\n",
       "      <th>speaks</th>\n",
       "      <th>status</th>\n",
       "    </tr>\n",
       "  </thead>\n",
       "  <tbody>\n",
       "    <tr>\n",
       "      <th>0</th>\n",
       "      <td>22</td>\n",
       "      <td>a little extra</td>\n",
       "      <td>strictly anything</td>\n",
       "      <td>socially</td>\n",
       "      <td>never</td>\n",
       "      <td>working on college/university</td>\n",
       "      <td>about me:&lt;br /&gt;\\n&lt;br /&gt;\\ni would love to think...</td>\n",
       "      <td>currently working as an international agent fo...</td>\n",
       "      <td>making people laugh.&lt;br /&gt;\\nranting about a go...</td>\n",
       "      <td>the way i look. i am a six foot half asian, ha...</td>\n",
       "      <td>...</td>\n",
       "      <td>south san francisco, california</td>\n",
       "      <td>doesn&amp;rsquo;t have kids, but might want them</td>\n",
       "      <td>straight</td>\n",
       "      <td>likes dogs and likes cats</td>\n",
       "      <td>agnosticism and very serious about it</td>\n",
       "      <td>m</td>\n",
       "      <td>gemini</td>\n",
       "      <td>sometimes</td>\n",
       "      <td>english</td>\n",
       "      <td>single</td>\n",
       "    </tr>\n",
       "    <tr>\n",
       "      <th>1</th>\n",
       "      <td>35</td>\n",
       "      <td>average</td>\n",
       "      <td>mostly other</td>\n",
       "      <td>often</td>\n",
       "      <td>sometimes</td>\n",
       "      <td>working on space camp</td>\n",
       "      <td>i am a chef: this is what that means.&lt;br /&gt;\\n1...</td>\n",
       "      <td>dedicating everyday to being an unbelievable b...</td>\n",
       "      <td>being silly. having ridiculous amonts of fun w...</td>\n",
       "      <td>NaN</td>\n",
       "      <td>...</td>\n",
       "      <td>oakland, california</td>\n",
       "      <td>doesn&amp;rsquo;t have kids, but might want them</td>\n",
       "      <td>straight</td>\n",
       "      <td>likes dogs and likes cats</td>\n",
       "      <td>agnosticism but not too serious about it</td>\n",
       "      <td>m</td>\n",
       "      <td>cancer</td>\n",
       "      <td>no</td>\n",
       "      <td>english (fluently), spanish (poorly), french (...</td>\n",
       "      <td>single</td>\n",
       "    </tr>\n",
       "  </tbody>\n",
       "</table>\n",
       "<p>2 rows × 31 columns</p>\n",
       "</div>"
      ],
      "text/plain": [
       "   age       body_type               diet    drinks      drugs  \\\n",
       "0   22  a little extra  strictly anything  socially      never   \n",
       "1   35         average       mostly other     often  sometimes   \n",
       "\n",
       "                       education  \\\n",
       "0  working on college/university   \n",
       "1          working on space camp   \n",
       "\n",
       "                                              essay0  \\\n",
       "0  about me:<br />\\n<br />\\ni would love to think...   \n",
       "1  i am a chef: this is what that means.<br />\\n1...   \n",
       "\n",
       "                                              essay1  \\\n",
       "0  currently working as an international agent fo...   \n",
       "1  dedicating everyday to being an unbelievable b...   \n",
       "\n",
       "                                              essay2  \\\n",
       "0  making people laugh.<br />\\nranting about a go...   \n",
       "1  being silly. having ridiculous amonts of fun w...   \n",
       "\n",
       "                                              essay3  ...  \\\n",
       "0  the way i look. i am a six foot half asian, ha...  ...   \n",
       "1                                                NaN  ...   \n",
       "\n",
       "                          location  \\\n",
       "0  south san francisco, california   \n",
       "1              oakland, california   \n",
       "\n",
       "                                      offspring orientation  \\\n",
       "0  doesn&rsquo;t have kids, but might want them    straight   \n",
       "1  doesn&rsquo;t have kids, but might want them    straight   \n",
       "\n",
       "                        pets                                  religion sex  \\\n",
       "0  likes dogs and likes cats     agnosticism and very serious about it   m   \n",
       "1  likes dogs and likes cats  agnosticism but not too serious about it   m   \n",
       "\n",
       "     sign     smokes                                             speaks  \\\n",
       "0  gemini  sometimes                                            english   \n",
       "1  cancer         no  english (fluently), spanish (poorly), french (...   \n",
       "\n",
       "   status  \n",
       "0  single  \n",
       "1  single  \n",
       "\n",
       "[2 rows x 31 columns]"
      ]
     },
     "execution_count": 2,
     "metadata": {},
     "output_type": "execute_result"
    }
   ],
   "source": [
    "data = pd.read_csv('profiles.csv')\n",
    "data.head(2)"
   ]
  },
  {
   "cell_type": "markdown",
   "metadata": {},
   "source": [
    "### Exploring trends in responses to open text fields by gender - words and bigrams"
   ]
  },
  {
   "cell_type": "markdown",
   "metadata": {},
   "source": [
    "#### Let us find the 10 most common words used by men and women\n",
    "We first create a new column concatenating all 10 `essay` columns, and drop any lines where this new value is empty. We can see in the first two lines of the data set above that the text in the `essay` field contains `html` tags. We are going to use BeautifulSoup to remove these tags.\n",
    "\n",
    "The output of the next cell shows the cleansed data in column `essays` as well as a new column `sex_num` containing a numerical value for gender."
   ]
  },
  {
   "cell_type": "code",
   "execution_count": 3,
   "metadata": {},
   "outputs": [
    {
     "data": {
      "text/html": [
       "<div>\n",
       "<style scoped>\n",
       "    .dataframe tbody tr th:only-of-type {\n",
       "        vertical-align: middle;\n",
       "    }\n",
       "\n",
       "    .dataframe tbody tr th {\n",
       "        vertical-align: top;\n",
       "    }\n",
       "\n",
       "    .dataframe thead th {\n",
       "        text-align: right;\n",
       "    }\n",
       "</style>\n",
       "<table border=\"1\" class=\"dataframe\">\n",
       "  <thead>\n",
       "    <tr style=\"text-align: right;\">\n",
       "      <th></th>\n",
       "      <th>essay0</th>\n",
       "      <th>essay1</th>\n",
       "      <th>essay2</th>\n",
       "      <th>raw_essays</th>\n",
       "      <th>essays</th>\n",
       "      <th>sex</th>\n",
       "      <th>sex_num</th>\n",
       "    </tr>\n",
       "  </thead>\n",
       "  <tbody>\n",
       "    <tr>\n",
       "      <th>0</th>\n",
       "      <td>about me:&lt;br /&gt;\\n&lt;br /&gt;\\ni would love to think...</td>\n",
       "      <td>currently working as an international agent fo...</td>\n",
       "      <td>making people laugh.&lt;br /&gt;\\nranting about a go...</td>\n",
       "      <td>about me:&lt;br /&gt;\\n&lt;br /&gt;\\ni would love to think...</td>\n",
       "      <td>about me:\\n\\ni would love to think that i was ...</td>\n",
       "      <td>m</td>\n",
       "      <td>0</td>\n",
       "    </tr>\n",
       "    <tr>\n",
       "      <th>5</th>\n",
       "      <td>i'm an australian living in san francisco, but...</td>\n",
       "      <td>building awesome stuff. figuring out what's im...</td>\n",
       "      <td>imagining random shit. laughing at aforementio...</td>\n",
       "      <td>i'm an australian living in san francisco, but...</td>\n",
       "      <td>i'm an australian living in san francisco, but...</td>\n",
       "      <td>m</td>\n",
       "      <td>0</td>\n",
       "    </tr>\n",
       "    <tr>\n",
       "      <th>9</th>\n",
       "      <td>my names jake.&lt;br /&gt;\\ni'm a creative guy and i...</td>\n",
       "      <td>i have an apartment. i like to explore and che...</td>\n",
       "      <td>i'm good at finding creative solutions to prob...</td>\n",
       "      <td>my names jake.&lt;br /&gt;\\ni'm a creative guy and i...</td>\n",
       "      <td>my names jake.\\ni'm a creative guy and i look ...</td>\n",
       "      <td>m</td>\n",
       "      <td>0</td>\n",
       "    </tr>\n",
       "    <tr>\n",
       "      <th>10</th>\n",
       "      <td>update: i'm seeing someone, so off the market ...</td>\n",
       "      <td>i have three jobs. i've been doing sound and l...</td>\n",
       "      <td>hugging, kissing, laughing, motivating people,...</td>\n",
       "      <td>update: i'm seeing someone, so off the market ...</td>\n",
       "      <td>update: i'm seeing someone, so off the market ...</td>\n",
       "      <td>m</td>\n",
       "      <td>0</td>\n",
       "    </tr>\n",
       "    <tr>\n",
       "      <th>11</th>\n",
       "      <td>i was born in wisconsin, grew up in iowa, and ...</td>\n",
       "      <td>i'm currently the youngest member on an intern...</td>\n",
       "      <td>i'm really good at a little bit of everything....</td>\n",
       "      <td>i was born in wisconsin, grew up in iowa, and ...</td>\n",
       "      <td>i was born in wisconsin, grew up in iowa, and ...</td>\n",
       "      <td>m</td>\n",
       "      <td>0</td>\n",
       "    </tr>\n",
       "  </tbody>\n",
       "</table>\n",
       "</div>"
      ],
      "text/plain": [
       "                                               essay0  \\\n",
       "0   about me:<br />\\n<br />\\ni would love to think...   \n",
       "5   i'm an australian living in san francisco, but...   \n",
       "9   my names jake.<br />\\ni'm a creative guy and i...   \n",
       "10  update: i'm seeing someone, so off the market ...   \n",
       "11  i was born in wisconsin, grew up in iowa, and ...   \n",
       "\n",
       "                                               essay1  \\\n",
       "0   currently working as an international agent fo...   \n",
       "5   building awesome stuff. figuring out what's im...   \n",
       "9   i have an apartment. i like to explore and che...   \n",
       "10  i have three jobs. i've been doing sound and l...   \n",
       "11  i'm currently the youngest member on an intern...   \n",
       "\n",
       "                                               essay2  \\\n",
       "0   making people laugh.<br />\\nranting about a go...   \n",
       "5   imagining random shit. laughing at aforementio...   \n",
       "9   i'm good at finding creative solutions to prob...   \n",
       "10  hugging, kissing, laughing, motivating people,...   \n",
       "11  i'm really good at a little bit of everything....   \n",
       "\n",
       "                                           raw_essays  \\\n",
       "0   about me:<br />\\n<br />\\ni would love to think...   \n",
       "5   i'm an australian living in san francisco, but...   \n",
       "9   my names jake.<br />\\ni'm a creative guy and i...   \n",
       "10  update: i'm seeing someone, so off the market ...   \n",
       "11  i was born in wisconsin, grew up in iowa, and ...   \n",
       "\n",
       "                                               essays sex  sex_num  \n",
       "0   about me:\\n\\ni would love to think that i was ...   m        0  \n",
       "5   i'm an australian living in san francisco, but...   m        0  \n",
       "9   my names jake.\\ni'm a creative guy and i look ...   m        0  \n",
       "10  update: i'm seeing someone, so off the market ...   m        0  \n",
       "11  i was born in wisconsin, grew up in iowa, and ...   m        0  "
      ]
     },
     "execution_count": 3,
     "metadata": {},
     "output_type": "execute_result"
    }
   ],
   "source": [
    "data['raw_essays'] = data['essay0'] + \" \" + data['essay1'] + \" \" + data['essay2'] + \" \" + data['essay3'] + \" \" + data['essay4'] + \" \" + data['essay5'] + \" \" + data['essay6'] + \" \" + data['essay7'] + \" \" + data['essay8'] + \" \" + data['essay9']\n",
    "data['sex_num'] = data['sex'].map({'m' : 0, 'f' : 1})\n",
    "\n",
    "data = data.dropna(subset = ['raw_essays'])\n",
    "\n",
    "from bs4 import BeautifulSoup\n",
    "data['essays'] = data['raw_essays'].apply(lambda x: BeautifulSoup(x).text)\n",
    "\n",
    "\n",
    "data[['essay0', 'essay1', 'essay2', 'raw_essays', 'essays', 'sex', 'sex_num']].head()"
   ]
  },
  {
   "cell_type": "markdown",
   "metadata": {},
   "source": [
    "We will then use a CountVectorizer object to identify the 10 most common words for each men and women."
   ]
  },
  {
   "cell_type": "code",
   "execution_count": 4,
   "metadata": {},
   "outputs": [
    {
     "name": "stdout",
     "output_type": "stream",
     "text": [
      "[('like', 54543), ('love', 37990), ('good', 34721), ('music', 32909), ('people', 30881), ('friends', 28681), ('just', 27814), ('time', 27285), ('life', 27114), ('things', 25225)]\n"
     ]
    }
   ],
   "source": [
    "m_data = data[data['sex_num'] == 0]\n",
    "m_corpus = m_data['essays']\n",
    "\n",
    "m_vectorizer = CountVectorizer(stop_words = 'english')\n",
    "X = m_vectorizer.fit_transform(m_corpus)\n",
    "\n",
    "m_freq_dict = {}\n",
    "freq_sum = X.sum(axis = 0)\n",
    "for i, feature in enumerate(m_vectorizer.get_feature_names()):\n",
    "    m_freq_dict[feature] = freq_sum.item(i)\n",
    "    \n",
    "top_10_words_m = sorted(m_freq_dict.items(), key = lambda x: x[1], reverse = True)[:10]\n",
    "print(top_10_words_m)"
   ]
  },
  {
   "cell_type": "code",
   "execution_count": 5,
   "metadata": {},
   "outputs": [
    {
     "name": "stdout",
     "output_type": "stream",
     "text": [
      "[('love', 38895), ('like', 35353), ('good', 22772), ('friends', 22001), ('people', 21632), ('music', 21001), ('life', 20203), ('time', 18754), ('things', 17312), ('just', 17115)]\n"
     ]
    }
   ],
   "source": [
    "f_data = data[data['sex_num'] == 1]\n",
    "f_corpus = f_data['essays']\n",
    "\n",
    "f_vectorizer = CountVectorizer(stop_words = 'english')\n",
    "X = f_vectorizer.fit_transform(f_corpus)\n",
    "\n",
    "f_freq_dict = {}\n",
    "freq_sum = X.sum(axis = 0)\n",
    "for i, feature in enumerate(f_vectorizer.get_feature_names()):\n",
    "    f_freq_dict[feature] = freq_sum.item(i)\n",
    "    \n",
    "top_10_words_f = sorted(f_freq_dict.items(), key = lambda x: x[1], reverse = True)[:10]\n",
    "print(top_10_words_f)"
   ]
  },
  {
   "cell_type": "markdown",
   "metadata": {},
   "source": [
    "It seems like both men and women tend to use the same top 10 words in their dating app profiles: however, the frequencies at which they use each word are different between men and women.\n",
    "\n",
    "- \"Love\" and \"Like\" are the top 2 words for both, however, women seem to use the word \"love\" more whereas men prefer \"Like\"\n",
    "- \"Like\" is by far the most frequently used word by men\n",
    "- Women mention more frequently \"life\", \"friends\" and \"people\"\n",
    "\n",
    "Let's built a bar plot to visualise this. First, we will need to normalize our numbers so we can compare the different figures as the dataset contains more men than women."
   ]
  },
  {
   "cell_type": "code",
   "execution_count": 6,
   "metadata": {},
   "outputs": [
    {
     "data": {
      "image/png": "[encoded data removed]",
      "text/plain": [
       "<Figure size 1440x576 with 1 Axes>"
      ]
     },
     "metadata": {
      "needs_background": "light"
     },
     "output_type": "display_data"
    }
   ],
   "source": [
    "import seaborn as sns\n",
    "import matplotlib.pyplot as plt\n",
    "\n",
    "top_10_df = pd.concat([pd.DataFrame(([x, y, 'female'] for (x, y) in top_10_words_f)) , pd.DataFrame([x, y, 'male'] for (x, y) in top_10_words_m)])\n",
    "top_10_df.rename(columns = {0 : \"word\", 1 : \"times_used\", 2 : \"gender\"}, inplace = True)\n",
    "\n",
    "num_women = data['sex_num'].value_counts()[1]\n",
    "num_men = data['sex_num'].value_counts()[0]\n",
    "\n",
    "top_10_df[\"time_used_by_pers\"] = top_10_df.apply(lambda row : (row[\"times_used\"]/num_women) if (row[\"gender\"] == \"female\") else (row[\"times_used\"]/num_men), axis = 1)\n",
    "\n",
    "plt.figure(figsize = (20, 8))\n",
    "sns.set_palette(\"Paired\")\n",
    "sns.barplot(data = top_10_df, x = top_10_df[\"word\"], y = top_10_df[\"time_used_by_pers\"], hue = top_10_df[\"gender\"])\n",
    "plt.title(\"10 most frequently used words by males and females\")\n",
    "plt.show()\n"
   ]
  },
  {
   "cell_type": "markdown",
   "metadata": {},
   "source": [
    "#### Now let us find the 10 most common bigrams used by men and women\n",
    "We will use a CountVectorizer object to identify the 10 most common bigrams in open text responses from both men and women."
   ]
  },
  {
   "cell_type": "code",
   "execution_count": 7,
   "metadata": {},
   "outputs": [
    {
     "name": "stdout",
     "output_type": "stream",
     "text": [
      "[('san francisco', 4406), ('bay area', 3508), ('family friends', 3193), ('sense humor', 3097), ('friends family', 2760), ('really good', 2352), ('don know', 2340), ('new things', 2314), ('hip hop', 1982), ('making people', 1891)]\n"
     ]
    }
   ],
   "source": [
    "m_vectorizer = CountVectorizer(stop_words = 'english', ngram_range = (2, 2))\n",
    "X = m_vectorizer.fit_transform(m_corpus)\n",
    "\n",
    "m_freq_dict = {}\n",
    "freq_sum = X.sum(axis = 0)\n",
    "for i, feature in enumerate(m_vectorizer.get_feature_names()):\n",
    "    m_freq_dict[feature] = freq_sum.item(i)\n",
    "    \n",
    "top_10_bigrams_m = sorted(m_freq_dict.items(), key = lambda x: x[1], reverse = True)[:10]\n",
    "print(top_10_bigrams_m)"
   ]
  },
  {
   "cell_type": "code",
   "execution_count": 8,
   "metadata": {},
   "outputs": [
    {
     "name": "stdout",
     "output_type": "stream",
     "text": [
      "[('family friends', 2977), ('san francisco', 2567), ('friends family', 2546), ('bay area', 2392), ('sense humor', 2313), ('new things', 1845), ('really good', 1599), ('don know', 1409), ('making people', 1370), ('trying new', 1263)]\n"
     ]
    }
   ],
   "source": [
    "f_vectorizer = CountVectorizer(stop_words = 'english', ngram_range = (2, 2))\n",
    "X = f_vectorizer.fit_transform(f_corpus)\n",
    "\n",
    "f_freq_dict = {}\n",
    "freq_sum = X.sum(axis = 0)\n",
    "for i, feature in enumerate(f_vectorizer.get_feature_names()):\n",
    "    f_freq_dict[feature] = freq_sum.item(i)\n",
    "    \n",
    "top_10_bigrams_f = sorted(f_freq_dict.items(), key = lambda x: x[1], reverse = True)[:10]\n",
    "print(top_10_bigrams_f)"
   ]
  },
  {
   "cell_type": "code",
   "execution_count": 9,
   "metadata": {},
   "outputs": [
    {
     "data": {
      "image/png": "[encoded data removed]",
      "text/plain": [
       "<Figure size 1440x576 with 1 Axes>"
      ]
     },
     "metadata": {
      "needs_background": "light"
     },
     "output_type": "display_data"
    }
   ],
   "source": [
    "top_10_bigrams_df = pd.concat([pd.DataFrame(([x, y, 'female'] for (x, y) in top_10_bigrams_f)) , pd.DataFrame([x, y, 'male'] for (x, y) in top_10_bigrams_m)])\n",
    "top_10_bigrams_df.rename(columns = {0 : \"bigram\", 1 : \"times_used\", 2 : \"gender\"}, inplace = True)\n",
    "\n",
    "top_10_bigrams_df[\"time_used_by_pers\"] = top_10_bigrams_df.apply(lambda row : (row[\"times_used\"]/num_women) if (row[\"gender\"] == \"female\") else (row[\"times_used\"]/num_men), axis = 1)\n",
    "\n",
    "plt.figure(figsize = (20, 8))\n",
    "sns.set_palette(\"Paired\")\n",
    "sns.barplot(data = top_10_bigrams_df, x = top_10_bigrams_df[\"bigram\"], y = top_10_bigrams_df[\"time_used_by_pers\"], hue = top_10_bigrams_df[\"gender\"])\n",
    "plt.title(\"10 Most frequently used bigrams by males and females\")\n",
    "plt.show()\n"
   ]
  },
  {
   "cell_type": "markdown",
   "metadata": {},
   "source": [
    "### Building a model that predicts a person's gender based on their reponses to open text fields"
   ]
  },
  {
   "cell_type": "markdown",
   "metadata": {},
   "source": [
    "Now that we've explored the most frequently used words and bigrams in each male and female profiles, we will build a model that classifies profiles by gender based on responses to open text fields. For this, we are going to use a Naive Bayes classifier. Let's first start by using all the text we have in our data set as a corpus to build our features dictionary."
   ]
  },
  {
   "cell_type": "code",
   "execution_count": 10,
   "metadata": {},
   "outputs": [],
   "source": [
    "corpus = data['essays']\n",
    "labels = data['sex_num']\n",
    "\n",
    "vectorizer = CountVectorizer(stop_words = 'english')\n",
    "X = vectorizer.fit_transform(corpus)"
   ]
  },
  {
   "cell_type": "markdown",
   "metadata": {},
   "source": [
    "We will split our data into a training set and a validation set. "
   ]
  },
  {
   "cell_type": "code",
   "execution_count": 11,
   "metadata": {},
   "outputs": [
    {
     "name": "stdout",
     "output_type": "stream",
     "text": [
      "Model's score on the : \n",
      " -  Training data:  0.886991461577097\n",
      " -  Validation data:  0.7905925677937731\n"
     ]
    }
   ],
   "source": [
    "train_data, test_data, train_labels, test_labels = train_test_split(X, labels, test_size = 0.2)\n",
    "\n",
    "classifier = MultinomialNB()\n",
    "classifier.fit(train_data, train_labels)\n",
    "print(\"Model's score on the : \")\n",
    "print(\" -  Training data: \", classifier.score(train_data, train_labels))\n",
    "print(\" -  Validation data: \", classifier.score(test_data, test_labels))"
   ]
  },
  {
   "cell_type": "markdown",
   "metadata": {},
   "source": [
    "The NB classifier using unigrams scores around 0.79 on the validation data. Let's have a look at the first few features of our model:"
   ]
  },
  {
   "cell_type": "code",
   "execution_count": 12,
   "metadata": {},
   "outputs": [
    {
     "data": {
      "text/plain": [
       "['00',\n",
       " '000',\n",
       " '000000',\n",
       " '0000x',\n",
       " '0002',\n",
       " '000ft',\n",
       " '000km',\n",
       " '000m',\n",
       " '001',\n",
       " '003']"
      ]
     },
     "execution_count": 12,
     "metadata": {},
     "output_type": "execute_result"
    }
   ],
   "source": [
    "vectorizer.get_feature_names()[:10]"
   ]
  },
  {
   "cell_type": "markdown",
   "metadata": {},
   "source": [
    "#### Improving the model's performance by cleansing the training corpus \n",
    "We can see from the above that lots of features of the corpus are words containing digits and/or underscore characters. We cleansed the training data to remove all words that have digits and/or underscores in them."
   ]
  },
  {
   "cell_type": "code",
   "execution_count": 13,
   "metadata": {},
   "outputs": [],
   "source": [
    "data['no_digit_essays'] = data['essays'].str.replace('\\d|_', '', regex = True)"
   ]
  },
  {
   "cell_type": "code",
   "execution_count": 14,
   "metadata": {},
   "outputs": [
    {
     "name": "stdout",
     "output_type": "stream",
     "text": [
      "Number of features:  121687\n",
      "No digits model's score on the : \n",
      " -  Training data:  0.8852754059936381\n",
      " -  Test data:  0.794944760629394\n"
     ]
    }
   ],
   "source": [
    "no_digit_corpus = data['no_digit_essays']\n",
    "\n",
    "no_digits_vectorizer = CountVectorizer(stop_words = 'english')\n",
    "X = no_digits_vectorizer.fit_transform(no_digit_corpus)\n",
    "\n",
    "feature_names = no_digits_vectorizer.get_feature_names()\n",
    "print(\"Number of features: \", len(feature_names))\n",
    "\n",
    "train_data, test_data, train_labels, test_labels = train_test_split(X, labels, test_size = 0.2)\n",
    "\n",
    "classifier = MultinomialNB()\n",
    "classifier.fit(train_data, train_labels)\n",
    "\n",
    "print(\"No digits model's score on the : \")\n",
    "print(\" -  Training data: \", classifier.score(train_data, train_labels))\n",
    "print(\" -  Test data: \", classifier.score(test_data, test_labels))"
   ]
  },
  {
   "cell_type": "markdown",
   "metadata": {},
   "source": [
    "The model we built using a clean corpus has a very close performance score to our first model. This indicates that features with digits and underscore don't affect much the overall performance.\n",
    "\n",
    "However, our model has over 120,000 features and takes quite a lot of time to run. Given that [native english speakers use on average 20,000 words](https://www.economist.com/johnson/2013/05/29/lexical-facts), the number of features our model uses seems too large.\n",
    "\n",
    "#### Exploring how the classifier's performance changes when we limit the model's max number of features\n",
    "\n",
    "Let's see how the model performs for a range of different max_features."
   ]
  },
  {
   "cell_type": "code",
   "execution_count": 15,
   "metadata": {},
   "outputs": [],
   "source": [
    "no_digit_corpus = data['no_digit_essays']\n",
    "\n",
    "max_features_values = [10, 100, 1000, 5000, 10000, 15000, 20000, 30000, 50000, 60000, 70000, 100000]\n",
    "scores = []\n",
    "\n",
    "\n",
    "for value in max_features_values:\n",
    "    no_digits_vectorizer = CountVectorizer(stop_words = \"english\", max_features = value)\n",
    "    X = no_digits_vectorizer.fit_transform(no_digit_corpus)\n",
    "    \n",
    "    train_data, test_data, train_labels, test_labels = train_test_split(X, labels, test_size = 0.2)\n",
    "    \n",
    "    classifier = MultinomialNB()\n",
    "    classifier.fit(train_data, train_labels)\n",
    "    \n",
    "    scores.append(classifier.score(test_data, test_labels))"
   ]
  },
  {
   "cell_type": "code",
   "execution_count": 16,
   "metadata": {},
   "outputs": [
    {
     "data": {
      "image/png": "[encoded data removed]",
      "text/plain": [
       "<Figure size 1008x576 with 1 Axes>"
      ]
     },
     "metadata": {
      "needs_background": "light"
     },
     "output_type": "display_data"
    }
   ],
   "source": [
    "plt.figure(figsize = (14, 8))\n",
    "plt.plot(max_features_values, scores, marker = 'o')\n",
    "plt.title(\"Naive Bayes Classifier's performance \\n against the max number of features it uses\")\n",
    "plt.xlabel(\"Max number of features\")\n",
    "plt.ylabel(\"Score on test data\")\n",
    "plt.show()"
   ]
  },
  {
   "cell_type": "markdown",
   "metadata": {},
   "source": [
    "Plotting the model's score against the max number of features used shows an elbow at around 20,000. Which is in line with our expectations, based on the fact that humans have a use a limited vocabulary on a daily basis. "
   ]
  },
  {
   "cell_type": "markdown",
   "metadata": {},
   "source": [
    "#### Exploring how the classifier's performance changes when we build it using bigrams \n"
   ]
  },
  {
   "cell_type": "markdown",
   "metadata": {},
   "source": [
    "Instead of using single words as features for our model like we did in the previous section, we will built a model using bigrams. We will start by building a bigram with no restrictions on max feature number, and then we'll explore how the model performs with a lower max feature number."
   ]
  },
  {
   "cell_type": "code",
   "execution_count": 17,
   "metadata": {},
   "outputs": [
    {
     "name": "stdout",
     "output_type": "stream",
     "text": [
      "Number of features:  3074274\n",
      "No digits model's score on the : \n",
      " -  Training data:  0.9996233048719236\n",
      " -  Test data:  0.7395379979912956\n"
     ]
    }
   ],
   "source": [
    "no_digit_corpus = data['no_digit_essays']\n",
    "bigram_vectorizer = CountVectorizer(stop_words = \"english\", ngram_range = (2,2))\n",
    "X = bigram_vectorizer.fit_transform(no_digit_corpus)\n",
    "\n",
    "train_data, test_data, train_labels, test_labels = train_test_split(X, labels, test_size = 0.2)\n",
    "\n",
    "classifier = MultinomialNB()\n",
    "classifier.fit(train_data, train_labels)\n",
    "\n",
    "feature_names = bigram_vectorizer.get_feature_names()\n",
    "print(\"Number of features: \", len(feature_names))\n",
    "\n",
    "print(\"No digits model's score on the : \")\n",
    "print(\" -  Training data: \", classifier.score(train_data, train_labels))\n",
    "print(\" -  Test data: \", classifier.score(test_data, test_labels))"
   ]
  },
  {
   "cell_type": "markdown",
   "metadata": {},
   "source": [
    "Our NB classifier using bigrams scores around 0.73 on the validation data. The model has over 3,000,000 features! Let's see how the model performs with a limited number of features."
   ]
  },
  {
   "cell_type": "code",
   "execution_count": 18,
   "metadata": {},
   "outputs": [],
   "source": [
    "no_digit_corpus = data['no_digit_essays']\n",
    "\n",
    "max_features_values = [10, 100, 1000, 5000, 10000, 15000, 20000, 30000, 50000, 60000, 70000, 100000]\n",
    "scores = []\n",
    "\n",
    "\n",
    "for value in max_features_values:\n",
    "    no_digits_vectorizer = CountVectorizer(stop_words = \"english\", max_features = value, ngram_range = (2,2))\n",
    "    X = no_digits_vectorizer.fit_transform(no_digit_corpus)\n",
    "    \n",
    "    train_data, test_data, train_labels, test_labels = train_test_split(X, labels, test_size = 0.2)\n",
    "    \n",
    "    classifier = MultinomialNB()\n",
    "    classifier.fit(train_data, train_labels)\n",
    "    \n",
    "    scores.append(classifier.score(test_data, test_labels))"
   ]
  },
  {
   "cell_type": "code",
   "execution_count": 19,
   "metadata": {
    "scrolled": false
   },
   "outputs": [
    {
     "data": {
      "image/png": "[encoded data removed]",
      "text/plain": [
       "<Figure size 1008x576 with 1 Axes>"
      ]
     },
     "metadata": {
      "needs_background": "light"
     },
     "output_type": "display_data"
    }
   ],
   "source": [
    "plt.figure(figsize = (14, 8))\n",
    "plt.plot(max_features_values, scores, marker = 'o')\n",
    "plt.title(\"Naive Bayes Classifier's performance \\n against the max number of features it uses\")\n",
    "plt.xlabel(\"Max number of features\")\n",
    "plt.ylabel(\"Score on test data\")\n",
    "plt.show()"
   ]
  },
  {
   "cell_type": "markdown",
   "metadata": {},
   "source": [
    "Similarly to unigram classifiers, plotting the bigram classifiers' score against the max number of features used shows an elbow. For bigram classifiers, the elbow is located around max_features = 35,000. Also, the model performed better when we restricted it's max_features to values below 100,000 compared to when it was built with no restrictions on max_features - which is probably due to overfitting in the latter case."
   ]
  },
  {
   "cell_type": "markdown",
   "metadata": {},
   "source": [
    "#### Appendix\n",
    "\n",
    "The OkCupid dataset can be found on [Github](https://github.com/rudeboybert/JSE_OkCupid).\n",
    "Permission to use this data set was explicitly granted by OkCupid.\n",
    "Usernames are not included."
   ]
  }
 ],
 "metadata": {
  "kernelspec": {
   "display_name": "Python 3",
   "language": "python",
   "name": "python3"
  },
  "language_info": {
   "codemirror_mode": {
    "name": "ipython",
    "version": 3
   },
   "file_extension": ".py",
   "mimetype": "text/x-python",
   "name": "python",
   "nbconvert_exporter": "python",
   "pygments_lexer": "ipython3",
   "version": "3.9.1"
  }
 },
 "nbformat": 4,
 "nbformat_minor": 4
}
